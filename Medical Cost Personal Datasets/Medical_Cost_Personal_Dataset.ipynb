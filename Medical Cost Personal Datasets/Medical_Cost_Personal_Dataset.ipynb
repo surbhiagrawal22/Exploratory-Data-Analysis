{
  "nbformat": 4,
  "nbformat_minor": 0,
  "metadata": {
    "colab": {
      "name": "Medical Cost Personal Dataset.ipynb",
      "provenance": [],
      "collapsed_sections": []
    },
    "kernelspec": {
      "name": "python3",
      "display_name": "Python 3"
    }
  },
  "cells": [
    {
      "cell_type": "markdown",
      "metadata": {
        "id": "TruyumZJ97Rt"
      },
      "source": [
        "# **Medical Cost Personal Dataset**\n",
        "Dataset can be found at https://www.kaggle.com/mirichoi0218/insurance"
      ]
    },
    {
      "cell_type": "code",
      "metadata": {
        "id": "UfiVoxOQvN6l"
      },
      "source": [
        "import pandas as pd\n",
        "import numpy as np\n",
        "import matplotlib.pyplot as plt\n",
        "%matplotlib inline\n",
        "import seaborn as sns"
      ],
      "execution_count": null,
      "outputs": []
    },
    {
      "cell_type": "markdown",
      "metadata": {
        "id": "CalGE_W1x9lK"
      },
      "source": [
        "**Downloading the data and taking quick Glance at the data**"
      ]
    },
    {
      "cell_type": "code",
      "metadata": {
        "colab": {
          "base_uri": "https://localhost:8080/",
          "height": 204
        },
        "id": "68So6Pjqv5YG",
        "outputId": "97b5f7df-3a07-4426-bd39-b59ce6fe1077"
      },
      "source": [
        "df=pd.read_csv(\"/content/insurance.csv\")\n",
        "df.head()"
      ],
      "execution_count": null,
      "outputs": [
        {
          "output_type": "execute_result",
          "data": {
            "text/html": [
              "<div>\n",
              "<style scoped>\n",
              "    .dataframe tbody tr th:only-of-type {\n",
              "        vertical-align: middle;\n",
              "    }\n",
              "\n",
              "    .dataframe tbody tr th {\n",
              "        vertical-align: top;\n",
              "    }\n",
              "\n",
              "    .dataframe thead th {\n",
              "        text-align: right;\n",
              "    }\n",
              "</style>\n",
              "<table border=\"1\" class=\"dataframe\">\n",
              "  <thead>\n",
              "    <tr style=\"text-align: right;\">\n",
              "      <th></th>\n",
              "      <th>age</th>\n",
              "      <th>sex</th>\n",
              "      <th>bmi</th>\n",
              "      <th>children</th>\n",
              "      <th>smoker</th>\n",
              "      <th>region</th>\n",
              "      <th>charges</th>\n",
              "    </tr>\n",
              "  </thead>\n",
              "  <tbody>\n",
              "    <tr>\n",
              "      <th>0</th>\n",
              "      <td>19</td>\n",
              "      <td>female</td>\n",
              "      <td>27.900</td>\n",
              "      <td>0</td>\n",
              "      <td>yes</td>\n",
              "      <td>southwest</td>\n",
              "      <td>16884.92400</td>\n",
              "    </tr>\n",
              "    <tr>\n",
              "      <th>1</th>\n",
              "      <td>18</td>\n",
              "      <td>male</td>\n",
              "      <td>33.770</td>\n",
              "      <td>1</td>\n",
              "      <td>no</td>\n",
              "      <td>southeast</td>\n",
              "      <td>1725.55230</td>\n",
              "    </tr>\n",
              "    <tr>\n",
              "      <th>2</th>\n",
              "      <td>28</td>\n",
              "      <td>male</td>\n",
              "      <td>33.000</td>\n",
              "      <td>3</td>\n",
              "      <td>no</td>\n",
              "      <td>southeast</td>\n",
              "      <td>4449.46200</td>\n",
              "    </tr>\n",
              "    <tr>\n",
              "      <th>3</th>\n",
              "      <td>33</td>\n",
              "      <td>male</td>\n",
              "      <td>22.705</td>\n",
              "      <td>0</td>\n",
              "      <td>no</td>\n",
              "      <td>northwest</td>\n",
              "      <td>21984.47061</td>\n",
              "    </tr>\n",
              "    <tr>\n",
              "      <th>4</th>\n",
              "      <td>32</td>\n",
              "      <td>male</td>\n",
              "      <td>28.880</td>\n",
              "      <td>0</td>\n",
              "      <td>no</td>\n",
              "      <td>northwest</td>\n",
              "      <td>3866.85520</td>\n",
              "    </tr>\n",
              "  </tbody>\n",
              "</table>\n",
              "</div>"
            ],
            "text/plain": [
              "   age     sex     bmi  children smoker     region      charges\n",
              "0   19  female  27.900         0    yes  southwest  16884.92400\n",
              "1   18    male  33.770         1     no  southeast   1725.55230\n",
              "2   28    male  33.000         3     no  southeast   4449.46200\n",
              "3   33    male  22.705         0     no  northwest  21984.47061\n",
              "4   32    male  28.880         0     no  northwest   3866.85520"
            ]
          },
          "metadata": {
            "tags": []
          },
          "execution_count": 118
        }
      ]
    },
    {
      "cell_type": "code",
      "metadata": {
        "id": "7TSOOGsIyszB"
      },
      "source": [
        "df.tail()"
      ],
      "execution_count": null,
      "outputs": []
    },
    {
      "cell_type": "markdown",
      "metadata": {
        "id": "ZnkBEvBGyENU"
      },
      "source": [
        "Checking random sample of data (random 1% of Total data) "
      ]
    },
    {
      "cell_type": "code",
      "metadata": {
        "id": "jWkn94m4wN4z"
      },
      "source": [
        "df.sample(frac=.01)"
      ],
      "execution_count": null,
      "outputs": []
    },
    {
      "cell_type": "code",
      "metadata": {
        "colab": {
          "base_uri": "https://localhost:8080/",
          "height": 297
        },
        "id": "08q3k0C8wN9V",
        "outputId": "7d9cb722-b344-4566-d6e2-51905f033dc1"
      },
      "source": [
        "df.describe()"
      ],
      "execution_count": null,
      "outputs": [
        {
          "output_type": "execute_result",
          "data": {
            "text/html": [
              "<div>\n",
              "<style scoped>\n",
              "    .dataframe tbody tr th:only-of-type {\n",
              "        vertical-align: middle;\n",
              "    }\n",
              "\n",
              "    .dataframe tbody tr th {\n",
              "        vertical-align: top;\n",
              "    }\n",
              "\n",
              "    .dataframe thead th {\n",
              "        text-align: right;\n",
              "    }\n",
              "</style>\n",
              "<table border=\"1\" class=\"dataframe\">\n",
              "  <thead>\n",
              "    <tr style=\"text-align: right;\">\n",
              "      <th></th>\n",
              "      <th>age</th>\n",
              "      <th>bmi</th>\n",
              "      <th>children</th>\n",
              "      <th>charges</th>\n",
              "    </tr>\n",
              "  </thead>\n",
              "  <tbody>\n",
              "    <tr>\n",
              "      <th>count</th>\n",
              "      <td>1338.000000</td>\n",
              "      <td>1338.000000</td>\n",
              "      <td>1338.000000</td>\n",
              "      <td>1338.000000</td>\n",
              "    </tr>\n",
              "    <tr>\n",
              "      <th>mean</th>\n",
              "      <td>39.207025</td>\n",
              "      <td>30.663397</td>\n",
              "      <td>1.094918</td>\n",
              "      <td>13270.422265</td>\n",
              "    </tr>\n",
              "    <tr>\n",
              "      <th>std</th>\n",
              "      <td>14.049960</td>\n",
              "      <td>6.098187</td>\n",
              "      <td>1.205493</td>\n",
              "      <td>12110.011237</td>\n",
              "    </tr>\n",
              "    <tr>\n",
              "      <th>min</th>\n",
              "      <td>18.000000</td>\n",
              "      <td>15.960000</td>\n",
              "      <td>0.000000</td>\n",
              "      <td>1121.873900</td>\n",
              "    </tr>\n",
              "    <tr>\n",
              "      <th>25%</th>\n",
              "      <td>27.000000</td>\n",
              "      <td>26.296250</td>\n",
              "      <td>0.000000</td>\n",
              "      <td>4740.287150</td>\n",
              "    </tr>\n",
              "    <tr>\n",
              "      <th>50%</th>\n",
              "      <td>39.000000</td>\n",
              "      <td>30.400000</td>\n",
              "      <td>1.000000</td>\n",
              "      <td>9382.033000</td>\n",
              "    </tr>\n",
              "    <tr>\n",
              "      <th>75%</th>\n",
              "      <td>51.000000</td>\n",
              "      <td>34.693750</td>\n",
              "      <td>2.000000</td>\n",
              "      <td>16639.912515</td>\n",
              "    </tr>\n",
              "    <tr>\n",
              "      <th>max</th>\n",
              "      <td>64.000000</td>\n",
              "      <td>53.130000</td>\n",
              "      <td>5.000000</td>\n",
              "      <td>63770.428010</td>\n",
              "    </tr>\n",
              "  </tbody>\n",
              "</table>\n",
              "</div>"
            ],
            "text/plain": [
              "               age          bmi     children       charges\n",
              "count  1338.000000  1338.000000  1338.000000   1338.000000\n",
              "mean     39.207025    30.663397     1.094918  13270.422265\n",
              "std      14.049960     6.098187     1.205493  12110.011237\n",
              "min      18.000000    15.960000     0.000000   1121.873900\n",
              "25%      27.000000    26.296250     0.000000   4740.287150\n",
              "50%      39.000000    30.400000     1.000000   9382.033000\n",
              "75%      51.000000    34.693750     2.000000  16639.912515\n",
              "max      64.000000    53.130000     5.000000  63770.428010"
            ]
          },
          "metadata": {
            "tags": []
          },
          "execution_count": 119
        }
      ]
    },
    {
      "cell_type": "markdown",
      "metadata": {
        "id": "HWbNjdwJxLH6"
      },
      "source": [
        "We notice here that :-\n",
        "\n",
        "Age:-The minumum age of Person covered with Insurance is 18 and the maximum age is 64. People are in avearge age range (mean) of 39.\n",
        "\n",
        "BMI :-BMI is between 15.96 and 53.13. The mean Body Mass Index is 30.66.\n",
        "\n",
        "Children:-The numbers of children customer have are between 0 and 5.\n",
        "\n",
        "Charges:-They are between 1121.87 and 63770.43. The mean charges are 13270.42.\n",
        "\n",
        "---\n",
        "\n"
      ]
    },
    {
      "cell_type": "code",
      "metadata": {
        "colab": {
          "base_uri": "https://localhost:8080/"
        },
        "id": "nPfShihWwOBo",
        "outputId": "62e7cf15-8584-47ba-99f2-2dc611167861"
      },
      "source": [
        "df.info()\n",
        "print(f'The Number of rows are {(df.shape)[0]} and the number of columns are {(df.shape)[1]} ')"
      ],
      "execution_count": null,
      "outputs": [
        {
          "output_type": "stream",
          "text": [
            "<class 'pandas.core.frame.DataFrame'>\n",
            "RangeIndex: 1338 entries, 0 to 1337\n",
            "Data columns (total 7 columns):\n",
            " #   Column    Non-Null Count  Dtype  \n",
            "---  ------    --------------  -----  \n",
            " 0   age       1338 non-null   int64  \n",
            " 1   sex       1338 non-null   object \n",
            " 2   bmi       1338 non-null   float64\n",
            " 3   children  1338 non-null   int64  \n",
            " 4   smoker    1338 non-null   object \n",
            " 5   region    1338 non-null   object \n",
            " 6   charges   1338 non-null   float64\n",
            "dtypes: float64(2), int64(2), object(3)\n",
            "memory usage: 73.3+ KB\n",
            "The Number of rows are 1338 and the number of columns are 7 \n"
          ],
          "name": "stdout"
        }
      ]
    },
    {
      "cell_type": "markdown",
      "metadata": {
        "id": "xlUmwHnh91qK"
      },
      "source": [
        "There are no Null values/Missing Data in the Dataset.\n",
        "\n",
        "The Number of rows are 1338 and the number of Columns are 7"
      ]
    },
    {
      "cell_type": "markdown",
      "metadata": {
        "id": "6ASfVzFkgsi6"
      },
      "source": [
        "**Column wrangling**"
      ]
    },
    {
      "cell_type": "code",
      "metadata": {
        "id": "f7P9VrXM9uNb"
      },
      "source": [
        "# Renaming the columns with Titlecase()\n",
        "\n",
        "df.rename(columns={'age':\"Age\", 'sex':\"Sex\", 'bmi':\"BMI\", 'children':\"Children\", 'smoker':\"Smoker\", 'region':\"Region\", 'charges':\"Charges\"},inplace=True)"
      ],
      "execution_count": null,
      "outputs": []
    },
    {
      "cell_type": "code",
      "metadata": {
        "id": "xKzd2Qtc9wpM"
      },
      "source": [
        "# Converting the values in Dataframe in TitleCase()\n",
        "\n",
        "def changecase(df,columns):\n",
        "   for i in columns:\n",
        "    df.loc[:,i]=df.loc[:,i].str.title()\n",
        "   return df\n",
        "\n",
        "df=changecase(df,columns=[\"Sex\",\"Smoker\",\"Region\"])"
      ],
      "execution_count": null,
      "outputs": []
    },
    {
      "cell_type": "markdown",
      "metadata": {
        "id": "B33EitljfEWJ"
      },
      "source": [
        "**Analysing Distribution of People Covered in Insurance by Sex,Children,BMI,Region and Smoker/Non-Smoker Category**"
      ]
    },
    {
      "cell_type": "markdown",
      "metadata": {
        "id": "mL6ATmO6S5s7"
      },
      "source": [
        "*By Sex*\n",
        "\n",
        "1) Percentage of Male Covered in Policy :-50.5 %\n",
        "\n",
        "2) Percentage of Female Covered in Policy :-49.5 %\n",
        "\n",
        "Both the Gender are almost equally covered in Insurance Policies"
      ]
    },
    {
      "cell_type": "code",
      "metadata": {
        "colab": {
          "base_uri": "https://localhost:8080/",
          "height": 332
        },
        "id": "ZB1QHSdwwOFJ",
        "outputId": "e6afb854-98bd-49d1-b80a-acc2966e184c"
      },
      "source": [
        "sexCount=df[\"Sex\"].value_counts()\n",
        "print(sexCount)\n",
        "df[\"Sex\"].value_counts().plot(kind=\"pie\",legend=True,title=\"Number of Male/Female percentage covered in Insurance\",autopct='%1.1f%%',startangle=90,colors=[\"0.75\",\"lightblue\"])\n"
      ],
      "execution_count": null,
      "outputs": [
        {
          "output_type": "stream",
          "text": [
            "Male      676\n",
            "Female    662\n",
            "Name: Sex, dtype: int64\n"
          ],
          "name": "stdout"
        },
        {
          "output_type": "execute_result",
          "data": {
            "text/plain": [
              "<matplotlib.axes._subplots.AxesSubplot at 0x7faa9f8d4910>"
            ]
          },
          "metadata": {
            "tags": []
          },
          "execution_count": 123
        },
        {
          "output_type": "display_data",
          "data": {
            "image/png": "[encoded data removed]",
            "text/plain": [
              "<Figure size 432x288 with 1 Axes>"
            ]
          },
          "metadata": {
            "tags": []
          }
        }
      ]
    },
    {
      "cell_type": "markdown",
      "metadata": {
        "id": "-UzIXdfrS9O3"
      },
      "source": [
        "*By Smoker/Non-Smoker*\n",
        "\n",
        "1) Percentage of Smokers Covered in Policy :-20.5 % \n",
        "\n",
        "2) Percentage of Non-Smokers Covered in Policy :-80 % "
      ]
    },
    {
      "cell_type": "code",
      "metadata": {
        "colab": {
          "base_uri": "https://localhost:8080/",
          "height": 332
        },
        "id": "y8I0W8iqwOI9",
        "outputId": "d819f422-1314-4504-bfe0-a5288313ff65"
      },
      "source": [
        "smokercount=df[\"Smoker\"].value_counts()\n",
        "print(smokercount)\n",
        "df[\"Smoker\"].value_counts().plot(kind=\"pie\",legend=True,title=\"Number of Smoker/Non-Smokers covered in Insurance\",autopct='%1.1f%%',startangle=90,colors=[\"lightblue\",\"0.75\"])\n"
      ],
      "execution_count": null,
      "outputs": [
        {
          "output_type": "stream",
          "text": [
            "No     1064\n",
            "Yes     274\n",
            "Name: Smoker, dtype: int64\n"
          ],
          "name": "stdout"
        },
        {
          "output_type": "execute_result",
          "data": {
            "text/plain": [
              "<matplotlib.axes._subplots.AxesSubplot at 0x7faa9f313bd0>"
            ]
          },
          "metadata": {
            "tags": []
          },
          "execution_count": 124
        },
        {
          "output_type": "display_data",
          "data": {
            "image/png": "[encoded data removed]",
            "text/plain": [
              "<Figure size 432x288 with 1 Axes>"
            ]
          },
          "metadata": {
            "tags": []
          }
        }
      ]
    },
    {
      "cell_type": "markdown",
      "metadata": {
        "id": "w08pROubTKjW"
      },
      "source": [
        "*By Region*\n",
        "\n",
        "We see that People from SouthEast Residential Area are covered maximum under Insurance followed by SouthWest"
      ]
    },
    {
      "cell_type": "code",
      "metadata": {
        "colab": {
          "base_uri": "https://localhost:8080/",
          "height": 285
        },
        "id": "v4yZ_hsWwOLc",
        "outputId": "670696c4-ba9b-4a13-9cb1-344686d5c7cc"
      },
      "source": [
        "sns.set_theme(style=\"white\", color_codes=True)\n",
        "regioncount=df.groupby(\"Region\").size() # data underlying bar plot \n",
        "pal = sns.color_palette(\"Blues\", len(regioncount))\n",
        "rank = regioncount.argsort()\n",
        "sns.barplot(x=regioncount.index, y=regioncount, palette=np.array(pal[::])[rank])\n",
        "plt.show()"
      ],
      "execution_count": null,
      "outputs": [
        {
          "output_type": "display_data",
          "data": {
            "image/png": "[encoded data removed]",
            "text/plain": [
              "<Figure size 432x288 with 1 Axes>"
            ]
          },
          "metadata": {
            "tags": []
          }
        }
      ]
    },
    {
      "cell_type": "markdown",
      "metadata": {
        "id": "CW0T5CWeo9Pq"
      },
      "source": [
        "*By Age*\n",
        "\n",
        "22 % of People are lying under the Age group of 17-25,\n",
        "while 21% people under the Age group of 45-55\n",
        "Only 16% of people in age group (55-64) are covered under Insurance"
      ]
    },
    {
      "cell_type": "code",
      "metadata": {
        "colab": {
          "base_uri": "https://localhost:8080/",
          "height": 370
        },
        "id": "EvYjv7SLo7k9",
        "outputId": "ece276cb-3cb4-4406-a76c-e754a4f413ea"
      },
      "source": [
        "#  Binning the data\n",
        "\n",
        "df[\"Age\"].plot(kind=\"hist\",color=\"lightblue\")\n",
        "cut_labels = ['17-25','25-35','35-45','45-55','55-64']\n",
        "cut_bins = [17,25,35,45,55,64]\n",
        "df['AgeBins'] = pd.cut(df['Age'], bins=cut_bins, labels=cut_labels)\n",
        "\n",
        "# Peforming value counts\n",
        "\n",
        "df[\"AgeBins\"].value_counts(normalize=True)"
      ],
      "execution_count": null,
      "outputs": [
        {
          "output_type": "execute_result",
          "data": {
            "text/plain": [
              "17-25    0.228700\n",
              "45-55    0.212257\n",
              "25-35    0.200299\n",
              "35-45    0.197309\n",
              "55-64    0.161435\n",
              "Name: AgeBins, dtype: float64"
            ]
          },
          "metadata": {
            "tags": []
          },
          "execution_count": 133
        },
        {
          "output_type": "display_data",
          "data": {
            "image/png": "[encoded data removed]",
            "text/plain": [
              "<Figure size 432x288 with 1 Axes>"
            ]
          },
          "metadata": {
            "tags": [],
            "needs_background": "light"
          }
        }
      ]
    },
    {
      "cell_type": "markdown",
      "metadata": {
        "id": "SeyZTcAYwyz5"
      },
      "source": [
        "*By BMI*\n",
        "\n",
        "The distribution of BMI follows Normal Distribution/Bell Curve."
      ]
    },
    {
      "cell_type": "code",
      "metadata": {
        "colab": {
          "base_uri": "https://localhost:8080/",
          "height": 365
        },
        "id": "FNtcEeJywok6",
        "outputId": "dbdd5d01-9e3c-4121-bf75-92d5f8f518e1"
      },
      "source": [
        "sns.displot(df.BMI,color=\"lightblue\",kind=\"hist\")\n",
        "plt.show()"
      ],
      "execution_count": null,
      "outputs": [
        {
          "output_type": "display_data",
          "data": {
            "image/png": "[encoded data removed]",
            "text/plain": [
              "<Figure size 360x360 with 1 Axes>"
            ]
          },
          "metadata": {
            "tags": []
          }
        }
      ]
    },
    {
      "cell_type": "markdown",
      "metadata": {
        "id": "xPWXRnRtxj1a"
      },
      "source": [
        "*By Children*\n",
        "\n",
        "574 people (42%) of the People does not have any children,\n",
        "Only 324 people (24% of the Total Percentage) have 1 children\n",
        "Only 18 People have 5 kids.\n",
        "\n",
        "The distribution of Number of Children is not normal. There are too many people who do not have any kids."
      ]
    },
    {
      "cell_type": "code",
      "metadata": {
        "colab": {
          "base_uri": "https://localhost:8080/",
          "height": 382
        },
        "id": "ysPqnDsrxiwq",
        "outputId": "8ff4886d-e774-40f9-e0fd-9604be731b1e"
      },
      "source": [
        "df.groupby(\"Children\").size()\n",
        "sns.displot(df.Children,color=\"lightblue\")"
      ],
      "execution_count": null,
      "outputs": [
        {
          "output_type": "execute_result",
          "data": {
            "text/plain": [
              "<seaborn.axisgrid.FacetGrid at 0x7faaa8e94050>"
            ]
          },
          "metadata": {
            "tags": []
          },
          "execution_count": 70
        },
        {
          "output_type": "display_data",
          "data": {
            "image/png": "[encoded data removed]",
            "text/plain": [
              "<Figure size 360x360 with 1 Axes>"
            ]
          },
          "metadata": {
            "tags": []
          }
        }
      ]
    },
    {
      "cell_type": "markdown",
      "metadata": {
        "id": "04pEezQGZvQd"
      },
      "source": [
        "**Analyzing the Medical charges based on Age,Sex,Region and Smoking,Children,BMI column**"
      ]
    },
    {
      "cell_type": "markdown",
      "metadata": {
        "id": "94rnx-F2zcvA"
      },
      "source": [
        "*By Sex*\n",
        "\n",
        "Insurance Medical costs are higher for Male (13956.75) then Females (12569.57)."
      ]
    },
    {
      "cell_type": "code",
      "metadata": {
        "colab": {
          "base_uri": "https://localhost:8080/",
          "height": 467
        },
        "id": "CRZXf-aRaMFb",
        "outputId": "29605154-6c78-41d7-8d9e-bcfee004024d"
      },
      "source": [
        "print(df.groupby(\"Sex\").Charges.mean())\n",
        "pal = sns.color_palette(\"flare\")\n",
        "sns.catplot(x=\"Sex\",y=\"Charges\",data=df,hue=\"Sex\",palette=pal,kind=\"bar\")"
      ],
      "execution_count": null,
      "outputs": [
        {
          "output_type": "stream",
          "text": [
            "Sex\n",
            "Female    12569.578844\n",
            "Male      13956.751178\n",
            "Name: Charges, dtype: float64\n"
          ],
          "name": "stdout"
        },
        {
          "output_type": "execute_result",
          "data": {
            "text/plain": [
              "<seaborn.axisgrid.FacetGrid at 0x7faa9f8e3350>"
            ]
          },
          "metadata": {
            "tags": []
          },
          "execution_count": 100
        },
        {
          "output_type": "display_data",
          "data": {
            "image/png": "[encoded data removed]",
            "text/plain": [
              "<Figure size 360x360 with 1 Axes>"
            ]
          },
          "metadata": {
            "tags": []
          }
        }
      ]
    },
    {
      "cell_type": "markdown",
      "metadata": {
        "id": "d8qjAnHwevFn"
      },
      "source": [
        "*By Smoking Category*\n",
        "\n",
        "Insurance Medical costs are higher for People who smoke (32050.23) than those who do not smoke (8434.26)."
      ]
    },
    {
      "cell_type": "code",
      "metadata": {
        "colab": {
          "base_uri": "https://localhost:8080/",
          "height": 471
        },
        "id": "c-SaXUo9aMQx",
        "outputId": "a341dff1-4975-4d5b-d766-45f2096cad7e"
      },
      "source": [
        "print(df.groupby(\"Smoker\").Charges.mean())\n",
        "pal = sns.color_palette(\"flare\")\n",
        "sns.catplot(data=df,x=\"Smoker\",y=\"Charges\",kind=\"violin\",palette=pal)"
      ],
      "execution_count": null,
      "outputs": [
        {
          "output_type": "stream",
          "text": [
            "Smoker\n",
            "No      8434.268298\n",
            "Yes    32050.231832\n",
            "Name: Charges, dtype: float64\n"
          ],
          "name": "stdout"
        },
        {
          "output_type": "execute_result",
          "data": {
            "text/plain": [
              "<seaborn.axisgrid.FacetGrid at 0x7faa9f2d5850>"
            ]
          },
          "metadata": {
            "tags": []
          },
          "execution_count": 125
        },
        {
          "output_type": "display_data",
          "data": {
            "image/png": "[encoded data removed]",
            "text/plain": [
              "<Figure size 360x360 with 1 Axes>"
            ]
          },
          "metadata": {
            "tags": [],
            "needs_background": "light"
          }
        }
      ]
    },
    {
      "cell_type": "markdown",
      "metadata": {
        "id": "9_KimpSrfMby"
      },
      "source": [
        "*By Region*\n",
        "\n",
        "Medical Insurance cost bills are higher for people residing in Southeast Region and lowest for whose who reside in SouthWest Region."
      ]
    },
    {
      "cell_type": "code",
      "metadata": {
        "colab": {
          "base_uri": "https://localhost:8080/",
          "height": 505
        },
        "id": "ELGux9vRaMXv",
        "outputId": "f21d704f-5bbc-4b5f-8e1e-7ac012babcc2"
      },
      "source": [
        "print(df.groupby(\"Region\").Charges.mean())\n",
        "sns.catplot(kind=\"bar\",data=df,x=\"Region\",y=\"Charges\",palette=pal)"
      ],
      "execution_count": null,
      "outputs": [
        {
          "output_type": "stream",
          "text": [
            "Region\n",
            "Northeast    13406.384516\n",
            "Northwest    12417.575374\n",
            "Southeast    14735.411438\n",
            "Southwest    12346.937377\n",
            "Name: Charges, dtype: float64\n"
          ],
          "name": "stdout"
        },
        {
          "output_type": "execute_result",
          "data": {
            "text/plain": [
              "<seaborn.axisgrid.FacetGrid at 0x7faa9f8ea050>"
            ]
          },
          "metadata": {
            "tags": []
          },
          "execution_count": 126
        },
        {
          "output_type": "display_data",
          "data": {
            "image/png": "[encoded data removed]",
            "text/plain": [
              "<Figure size 360x360 with 1 Axes>"
            ]
          },
          "metadata": {
            "tags": [],
            "needs_background": "light"
          }
        }
      ]
    },
    {
      "cell_type": "markdown",
      "metadata": {
        "id": "VyqaZLW5f4dv"
      },
      "source": [
        "*By Sex and Smoking Category*\n",
        "\n",
        "Medical cost bils are higher for men who smoke then those who do not smoke."
      ]
    },
    {
      "cell_type": "code",
      "metadata": {
        "colab": {
          "base_uri": "https://localhost:8080/",
          "height": 505
        },
        "id": "G3Se6nCHaMbN",
        "outputId": "38f9462f-6e5f-4375-a94e-579e2f616e34"
      },
      "source": [
        "print(df.groupby([\"Sex\",\"Smoker\"]).Charges.mean())\n",
        "sns.catplot(x=\"Sex\",y=\"Charges\",data=df,hue=\"Smoker\",kind=\"bar\",palette=\"flare\")"
      ],
      "execution_count": null,
      "outputs": [
        {
          "output_type": "stream",
          "text": [
            "Sex     Smoker\n",
            "Female  No         8762.297300\n",
            "        Yes       30678.996276\n",
            "Male    No         8087.204731\n",
            "        Yes       33042.005975\n",
            "Name: Charges, dtype: float64\n"
          ],
          "name": "stdout"
        },
        {
          "output_type": "execute_result",
          "data": {
            "text/plain": [
              "<seaborn.axisgrid.FacetGrid at 0x7faa9f1d7510>"
            ]
          },
          "metadata": {
            "tags": []
          },
          "execution_count": 127
        },
        {
          "output_type": "display_data",
          "data": {
            "image/png": "[encoded data removed]",
            "text/plain": [
              "<Figure size 417.475x360 with 1 Axes>"
            ]
          },
          "metadata": {
            "tags": [],
            "needs_background": "light"
          }
        }
      ]
    },
    {
      "cell_type": "markdown",
      "metadata": {
        "id": "FAjSeoAAufdE"
      },
      "source": [
        "*By Agebins*\n",
        "\n",
        "Medical cost bils are higher (Medical cost bills =18795) for customers who are inhigher age group (55-64 ) and lower (Medical cost bills =9087 )for customers who are in younger Age Group (17-25)"
      ]
    },
    {
      "cell_type": "code",
      "metadata": {
        "colab": {
          "base_uri": "https://localhost:8080/",
          "height": 522
        },
        "id": "7m2H1dyTuXre",
        "outputId": "f80eea01-a494-4df8-d820-5c5229c42e6a"
      },
      "source": [
        "print(df.groupby(\"AgeBins\").Charges.mean())\n",
        "sns.catplot(data=df,kind=\"violin\",x=\"AgeBins\",y=\"Charges\",palette=\"flare\")"
      ],
      "execution_count": null,
      "outputs": [
        {
          "output_type": "stream",
          "text": [
            "AgeBins\n",
            "17-25     9087.015807\n",
            "25-35    10495.163047\n",
            "35-45    13493.485247\n",
            "45-55    15986.900310\n",
            "55-64    18795.993816\n",
            "Name: Charges, dtype: float64\n"
          ],
          "name": "stdout"
        },
        {
          "output_type": "execute_result",
          "data": {
            "text/plain": [
              "<seaborn.axisgrid.FacetGrid at 0x7faa9f129450>"
            ]
          },
          "metadata": {
            "tags": []
          },
          "execution_count": 135
        },
        {
          "output_type": "display_data",
          "data": {
            "image/png": "[encoded data removed]",
            "text/plain": [
              "<Figure size 360x360 with 1 Axes>"
            ]
          },
          "metadata": {
            "tags": [],
            "needs_background": "light"
          }
        }
      ]
    },
    {
      "cell_type": "markdown",
      "metadata": {
        "id": "WwFB-ekZhABZ"
      },
      "source": [
        "*By Number of Children*\n",
        "\n",
        "Medical personal costs are higher for people who have 2-3 children and lesser for people who have 5 children"
      ]
    },
    {
      "cell_type": "code",
      "metadata": {
        "colab": {
          "base_uri": "https://localhost:8080/"
        },
        "id": "GPRPAvmxzAlb",
        "outputId": "0c72e3c5-aaa4-46e8-eedc-2914713467bd"
      },
      "source": [
        "df.groupby(\"Children\").Charges.mean()"
      ],
      "execution_count": null,
      "outputs": [
        {
          "output_type": "execute_result",
          "data": {
            "text/plain": [
              "Children\n",
              "0    12365.975602\n",
              "1    12731.171832\n",
              "2    15073.563734\n",
              "3    15355.318367\n",
              "4    13850.656311\n",
              "5     8786.035247\n",
              "Name: Charges, dtype: float64"
            ]
          },
          "metadata": {
            "tags": []
          },
          "execution_count": 136
        }
      ]
    }
  ]
}