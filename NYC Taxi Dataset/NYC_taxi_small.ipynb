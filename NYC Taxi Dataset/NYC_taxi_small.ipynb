{
  "nbformat": 4,
  "nbformat_minor": 0,
  "metadata": {
    "colab": {
      "name": "NYC_taxi_small.ipynb",
      "provenance": [],
      "collapsed_sections": []
    },
    "kernelspec": {
      "name": "python3",
      "display_name": "Python 3"
    }
  },
  "cells": [
    {
      "cell_type": "code",
      "metadata": {
        "id": "cwtX0Bjei2nk"
      },
      "source": [
        "!pip install geopandas"
      ],
      "execution_count": null,
      "outputs": []
    },
    {
      "cell_type": "code",
      "metadata": {
        "id": "6Z9LohnInnJA"
      },
      "source": [
        "!pip install geoplot"
      ],
      "execution_count": null,
      "outputs": []
    },
    {
      "cell_type": "code",
      "metadata": {
        "id": "gfeczIzIbDNN"
      },
      "source": [
        "# importing libraries\n",
        "import pandas as pd\n",
        "import numpy as np\n",
        "import seaborn as sns\n",
        "import matplotlib.pyplot as plt\n",
        "import geoplot\n",
        "import geopy.distance \n",
        "import geopandas  # To create GeodataFrame\n",
        "from shapely.geometry import Point # Shapely for converting latitude/longtitude to geometry"
      ],
      "execution_count": 111,
      "outputs": []
    },
    {
      "cell_type": "markdown",
      "metadata": {
        "id": "gqi47jH7pN1M"
      },
      "source": [
        "Loading data and taking glance at first 5 rows"
      ]
    },
    {
      "cell_type": "code",
      "metadata": {
        "colab": {
          "base_uri": "https://localhost:8080/"
        },
        "id": "qVLuoSB3m9h0",
        "outputId": "256f93bf-e9d8-432e-bf34-ba7b3b01a910"
      },
      "source": [
        "pd.set_option(\"max_columns\",15)\n",
        "df=pd.read_csv(\"/content/NYC_taxi_small.csv\", usecols=[\"key\",\t\"fare_amount\",\t\"pickup_datetime\",\"pickup_longitude\",\t\t\"pickup_latitude\",\t\"dropoff_longitude\",\t\"dropoff_latitude\",\t\"passenger_count\"],\n",
        "               parse_dates=[\"key\",\"pickup_datetime\"])\n",
        "# print(df.head())\n",
        "print(df.shape)\n",
        "\n",
        "# dropping off all rows where either pickup_longitude,\tpickup_latitude,\tdropoff_longitude, and dropoff_latitude are equal to zero\n",
        "df.drop(df[(df.pickup_latitude==0.0)| (df.dropoff_longitude==0.0)|(df.pickup_longitude==0.0)|(df.dropoff_latitude==0.0)].index,inplace=True)\n",
        "# shape after dropping rows\n",
        "print(df.shape)\n"
      ],
      "execution_count": 112,
      "outputs": [
        {
          "output_type": "stream",
          "text": [
            "(22169, 8)\n",
            "(21733, 8)\n"
          ],
          "name": "stdout"
        }
      ]
    },
    {
      "cell_type": "markdown",
      "metadata": {
        "id": "ja6RF2HgrAIH"
      },
      "source": [
        "Creating two new columns origin and destination which are tuples of their latitude and longitude values"
      ]
    },
    {
      "cell_type": "code",
      "metadata": {
        "id": "WDTKG4InjEfN"
      },
      "source": [
        "df[\"origin\"]=list(zip(df[\"pickup_latitude\"],df[\"pickup_longitude\"]))\n",
        "df[\"destination\"]=list(zip(df[\"dropoff_latitude\"],df[\"dropoff_longitude\"]))"
      ],
      "execution_count": 113,
      "outputs": []
    },
    {
      "cell_type": "markdown",
      "metadata": {
        "id": "6F0f_0M-rDRT"
      },
      "source": [
        "Calculating distance between pickup and dropoff locations and creating a new column pickup_dropoff_distance"
      ]
    },
    {
      "cell_type": "code",
      "metadata": {
        "id": "uhDQonVCrICm"
      },
      "source": [
        "# dropping rows where latitude values are not in range(-90,90)\n",
        "df.drop(df[(df.pickup_latitude<-90) | (df.pickup_longitude>90)].index,inplace=True)\n",
        "def distancer(df):\n",
        "    coords_1 = (df['pickup_latitude' ],df['pickup_longitude'])\n",
        "    coords_2 = ( df['dropoff_latitude'],df['dropoff_longitude'])\n",
        "    return geopy.distance.distance(coords_1, coords_2).km\n",
        "\n",
        "df['pickup_dropoff_distance'] = df.apply(distancer, axis=1)"
      ],
      "execution_count": 114,
      "outputs": []
    },
    {
      "cell_type": "code",
      "metadata": {
        "id": "rCfoU6tQnIMZ"
      },
      "source": [
        "df.tail()"
      ],
      "execution_count": null,
      "outputs": []
    },
    {
      "cell_type": "code",
      "metadata": {
        "id": "SHeS6RgynIS_"
      },
      "source": [
        "df.info()"
      ],
      "execution_count": null,
      "outputs": []
    },
    {
      "cell_type": "code",
      "metadata": {
        "colab": {
          "base_uri": "https://localhost:8080/",
          "height": 317
        },
        "id": "I0d_Sk75nIXz",
        "outputId": "ed360e49-3e82-4ec4-d3d9-a2b5c6293ee3"
      },
      "source": [
        "df.describe()"
      ],
      "execution_count": 117,
      "outputs": [
        {
          "output_type": "execute_result",
          "data": {
            "text/html": [
              "<div>\n",
              "<style scoped>\n",
              "    .dataframe tbody tr th:only-of-type {\n",
              "        vertical-align: middle;\n",
              "    }\n",
              "\n",
              "    .dataframe tbody tr th {\n",
              "        vertical-align: top;\n",
              "    }\n",
              "\n",
              "    .dataframe thead th {\n",
              "        text-align: right;\n",
              "    }\n",
              "</style>\n",
              "<table border=\"1\" class=\"dataframe\">\n",
              "  <thead>\n",
              "    <tr style=\"text-align: right;\">\n",
              "      <th></th>\n",
              "      <th>fare_amount</th>\n",
              "      <th>pickup_longitude</th>\n",
              "      <th>pickup_latitude</th>\n",
              "      <th>dropoff_longitude</th>\n",
              "      <th>dropoff_latitude</th>\n",
              "      <th>passenger_count</th>\n",
              "      <th>pickup_dropoff_distance</th>\n",
              "    </tr>\n",
              "  </thead>\n",
              "  <tbody>\n",
              "    <tr>\n",
              "      <th>count</th>\n",
              "      <td>21733.000000</td>\n",
              "      <td>21733.000000</td>\n",
              "      <td>21733.000000</td>\n",
              "      <td>21733.000000</td>\n",
              "      <td>21733.000000</td>\n",
              "      <td>21733.000000</td>\n",
              "      <td>21733.000000</td>\n",
              "    </tr>\n",
              "    <tr>\n",
              "      <th>mean</th>\n",
              "      <td>11.307605</td>\n",
              "      <td>-73.929129</td>\n",
              "      <td>40.707033</td>\n",
              "      <td>-73.922187</td>\n",
              "      <td>40.707617</td>\n",
              "      <td>1.677127</td>\n",
              "      <td>3.928334</td>\n",
              "    </tr>\n",
              "    <tr>\n",
              "      <th>std</th>\n",
              "      <td>9.669645</td>\n",
              "      <td>2.257405</td>\n",
              "      <td>2.218541</td>\n",
              "      <td>2.347972</td>\n",
              "      <td>2.218735</td>\n",
              "      <td>1.308473</td>\n",
              "      <td>53.745957</td>\n",
              "    </tr>\n",
              "    <tr>\n",
              "      <th>min</th>\n",
              "      <td>0.000000</td>\n",
              "      <td>-75.415605</td>\n",
              "      <td>-74.016910</td>\n",
              "      <td>-75.355573</td>\n",
              "      <td>-74.001445</td>\n",
              "      <td>0.000000</td>\n",
              "      <td>0.000000</td>\n",
              "    </tr>\n",
              "    <tr>\n",
              "      <th>25%</th>\n",
              "      <td>6.000000</td>\n",
              "      <td>-73.992025</td>\n",
              "      <td>40.736676</td>\n",
              "      <td>-73.991532</td>\n",
              "      <td>40.735620</td>\n",
              "      <td>1.000000</td>\n",
              "      <td>1.255400</td>\n",
              "    </tr>\n",
              "    <tr>\n",
              "      <th>50%</th>\n",
              "      <td>8.500000</td>\n",
              "      <td>-73.981896</td>\n",
              "      <td>40.753522</td>\n",
              "      <td>-73.980382</td>\n",
              "      <td>40.753942</td>\n",
              "      <td>1.000000</td>\n",
              "      <td>2.170238</td>\n",
              "    </tr>\n",
              "    <tr>\n",
              "      <th>75%</th>\n",
              "      <td>12.500000</td>\n",
              "      <td>-73.968163</td>\n",
              "      <td>40.767505</td>\n",
              "      <td>-73.964597</td>\n",
              "      <td>40.768494</td>\n",
              "      <td>2.000000</td>\n",
              "      <td>3.916035</td>\n",
              "    </tr>\n",
              "    <tr>\n",
              "      <th>max</th>\n",
              "      <td>225.000000</td>\n",
              "      <td>40.780150</td>\n",
              "      <td>41.366138</td>\n",
              "      <td>40.762755</td>\n",
              "      <td>48.416667</td>\n",
              "      <td>6.000000</td>\n",
              "      <td>5677.160522</td>\n",
              "    </tr>\n",
              "  </tbody>\n",
              "</table>\n",
              "</div>"
            ],
            "text/plain": [
              "        fare_amount  pickup_longitude  pickup_latitude  dropoff_longitude  \\\n",
              "count  21733.000000      21733.000000     21733.000000       21733.000000   \n",
              "mean      11.307605        -73.929129        40.707033         -73.922187   \n",
              "std        9.669645          2.257405         2.218541           2.347972   \n",
              "min        0.000000        -75.415605       -74.016910         -75.355573   \n",
              "25%        6.000000        -73.992025        40.736676         -73.991532   \n",
              "50%        8.500000        -73.981896        40.753522         -73.980382   \n",
              "75%       12.500000        -73.968163        40.767505         -73.964597   \n",
              "max      225.000000         40.780150        41.366138          40.762755   \n",
              "\n",
              "       dropoff_latitude  passenger_count  pickup_dropoff_distance  \n",
              "count      21733.000000     21733.000000             21733.000000  \n",
              "mean          40.707617         1.677127                 3.928334  \n",
              "std            2.218735         1.308473                53.745957  \n",
              "min          -74.001445         0.000000                 0.000000  \n",
              "25%           40.735620         1.000000                 1.255400  \n",
              "50%           40.753942         1.000000                 2.170238  \n",
              "75%           40.768494         2.000000                 3.916035  \n",
              "max           48.416667         6.000000              5677.160522  "
            ]
          },
          "metadata": {
            "tags": []
          },
          "execution_count": 117
        }
      ]
    },
    {
      "cell_type": "markdown",
      "metadata": {
        "id": "VjBpLZty7Qjz"
      },
      "source": [
        "Analysis from describe() method\n",
        "\n",
        "Fare Amount:-The average fare amount is 11.30\n",
        "\n",
        "The number of passengers_count are in range(0,6)\n",
        "\n",
        "The maximum distance between two pickup and dropoff location is 5677.6 km\n"
      ]
    },
    {
      "cell_type": "code",
      "metadata": {
        "colab": {
          "base_uri": "https://localhost:8080/"
        },
        "id": "-I-WRKGMnIdY",
        "outputId": "a5cb3001-565e-45f0-d79d-b1050ab4585f"
      },
      "source": [
        "df.isnull().any()"
      ],
      "execution_count": 118,
      "outputs": [
        {
          "output_type": "execute_result",
          "data": {
            "text/plain": [
              "key                        False\n",
              "fare_amount                False\n",
              "pickup_datetime            False\n",
              "pickup_longitude           False\n",
              "pickup_latitude            False\n",
              "dropoff_longitude          False\n",
              "dropoff_latitude           False\n",
              "passenger_count            False\n",
              "origin                     False\n",
              "destination                False\n",
              "pickup_dropoff_distance    False\n",
              "dtype: bool"
            ]
          },
          "metadata": {
            "tags": []
          },
          "execution_count": 118
        }
      ]
    },
    {
      "cell_type": "markdown",
      "metadata": {
        "id": "gc2RSQVHpTBq"
      },
      "source": [
        "Checking for duplicate rows"
      ]
    },
    {
      "cell_type": "code",
      "metadata": {
        "colab": {
          "base_uri": "https://localhost:8080/"
        },
        "id": "oxYr8RJfnIhx",
        "outputId": "2b0f7db7-d366-40c3-e798-4a7483adab0b"
      },
      "source": [
        "df.duplicated().any()"
      ],
      "execution_count": 119,
      "outputs": [
        {
          "output_type": "execute_result",
          "data": {
            "text/plain": [
              "False"
            ]
          },
          "metadata": {
            "tags": []
          },
          "execution_count": 119
        }
      ]
    },
    {
      "cell_type": "markdown",
      "metadata": {
        "id": "sODBK2KXpVgP"
      },
      "source": [
        "Looking at shape of the data .Dataset has 21733 rows and 8 columns."
      ]
    },
    {
      "cell_type": "code",
      "metadata": {
        "colab": {
          "base_uri": "https://localhost:8080/"
        },
        "id": "jlcLeIF_nIkq",
        "outputId": "4f63c90e-8e83-48f8-8c02-ac340d7eddae"
      },
      "source": [
        "df.shape"
      ],
      "execution_count": 120,
      "outputs": [
        {
          "output_type": "execute_result",
          "data": {
            "text/plain": [
              "(21733, 11)"
            ]
          },
          "metadata": {
            "tags": []
          },
          "execution_count": 120
        }
      ]
    },
    {
      "cell_type": "markdown",
      "metadata": {
        "id": "CkDNKAhnZLmv"
      },
      "source": [
        "Most common 5 pickup locations"
      ]
    },
    {
      "cell_type": "code",
      "metadata": {
        "colab": {
          "base_uri": "https://localhost:8080/"
        },
        "id": "4Cw3o7BuZLJ5",
        "outputId": "d90e6b3c-f6b4-4c64-b862-7315fcb3720d"
      },
      "source": [
        "df.loc[~((df.pickup_latitude==0)&(df.pickup_longitude==0)) ,:].groupby([\"pickup_latitude\",\"pickup_longitude\"]).size().nlargest(5)"
      ],
      "execution_count": 121,
      "outputs": [
        {
          "output_type": "execute_result",
          "data": {
            "text/plain": [
              "pickup_latitude  pickup_longitude\n",
              "41.366138        -73.137393          15\n",
              "40.190564        -74.689831           4\n",
              "40.713157        -73.954210           2\n",
              "40.728043        -73.984872           2\n",
              "40.733391        -74.006302           2\n",
              "dtype: int64"
            ]
          },
          "metadata": {
            "tags": []
          },
          "execution_count": 121
        }
      ]
    },
    {
      "cell_type": "markdown",
      "metadata": {
        "id": "4cRyWI31ZVXD"
      },
      "source": [
        "Most common 5 Destination locations "
      ]
    },
    {
      "cell_type": "code",
      "metadata": {
        "colab": {
          "base_uri": "https://localhost:8080/"
        },
        "id": "Nf_a9e6OZZv3",
        "outputId": "26838f55-ad7a-419e-e136-a70643d168ad"
      },
      "source": [
        "df.loc[~((df.dropoff_longitude==0)&(df.dropoff_latitude==0)) ,:].groupby([\"dropoff_latitude\",\"dropoff_longitude\"]).size().nlargest(5)"
      ],
      "execution_count": 122,
      "outputs": [
        {
          "output_type": "execute_result",
          "data": {
            "text/plain": [
              "dropoff_latitude  dropoff_longitude\n",
              "41.366138         -73.137393           9\n",
              "40.190564         -74.689831           3\n",
              "40.713157         -73.954210           2\n",
              "40.728043         -73.984872           2\n",
              "40.768500         -73.861900           2\n",
              "dtype: int64"
            ]
          },
          "metadata": {
            "tags": []
          },
          "execution_count": 122
        }
      ]
    },
    {
      "cell_type": "markdown",
      "metadata": {
        "id": "4vMicDsC6y1_"
      },
      "source": [
        "How many passengers do normally travel in a Taxi Cab?\n",
        "\n",
        "We see that mostly Passengers books Taxi cabs with one passenger only "
      ]
    },
    {
      "cell_type": "code",
      "metadata": {
        "colab": {
          "base_uri": "https://localhost:8080/",
          "height": 297
        },
        "id": "N9wFBBJS58Ch",
        "outputId": "f72fa739-56d3-43f1-85da-890fd4874cd1"
      },
      "source": [
        "sns.countplot(x=\"passenger_count\",data=df,palette=\"pastel\")"
      ],
      "execution_count": 123,
      "outputs": [
        {
          "output_type": "execute_result",
          "data": {
            "text/plain": [
              "<matplotlib.axes._subplots.AxesSubplot at 0x7fac2f017710>"
            ]
          },
          "metadata": {
            "tags": []
          },
          "execution_count": 123
        },
        {
          "output_type": "display_data",
          "data": {
            "image/png": "[encoded data removed]",
            "text/plain": [
              "<Figure size 432x288 with 1 Axes>"
            ]
          },
          "metadata": {
            "tags": [],
            "needs_background": "light"
          }
        }
      ]
    },
    {
      "cell_type": "markdown",
      "metadata": {
        "id": "ylhaKqkE7FC-"
      },
      "source": [
        "The number of taxi bookings happened in each month?\n",
        "\n",
        "We see that the Taxi booking has occured highest in May Month and lowest in August Month over all years."
      ]
    },
    {
      "cell_type": "code",
      "metadata": {
        "colab": {
          "base_uri": "https://localhost:8080/",
          "height": 535
        },
        "id": "Pf6lFYHaB701",
        "outputId": "54bcdc30-39a9-4b44-dc86-445bc772936c"
      },
      "source": [
        "print(df.groupby(df[\"pickup_datetime\"].dt.month).size())\n",
        "df.groupby(df[\"pickup_datetime\"].dt.month).size().plot(marker=\"o\")"
      ],
      "execution_count": 124,
      "outputs": [
        {
          "output_type": "stream",
          "text": [
            "pickup_datetime\n",
            "1     1898\n",
            "2     1850\n",
            "3     1985\n",
            "4     2032\n",
            "5     2130\n",
            "6     1969\n",
            "7     1557\n",
            "8     1521\n",
            "9     1702\n",
            "10    1817\n",
            "11    1587\n",
            "12    1685\n",
            "dtype: int64\n"
          ],
          "name": "stdout"
        },
        {
          "output_type": "execute_result",
          "data": {
            "text/plain": [
              "<matplotlib.axes._subplots.AxesSubplot at 0x7fac26327f90>"
            ]
          },
          "metadata": {
            "tags": []
          },
          "execution_count": 124
        },
        {
          "output_type": "display_data",
          "data": {
            "image/png": "[encoded data removed]",
            "text/plain": [
              "<Figure size 432x288 with 1 Axes>"
            ]
          },
          "metadata": {
            "tags": [],
            "needs_background": "light"
          }
        }
      ]
    },
    {
      "cell_type": "markdown",
      "metadata": {
        "id": "bxISaF-FTkK9"
      },
      "source": [
        "The number of taxi booking happened in each Year?\n",
        "\n",
        "We see that the Taxi booking has decreased dreastically for year 2015 as compared to year 2009."
      ]
    },
    {
      "cell_type": "code",
      "metadata": {
        "colab": {
          "base_uri": "https://localhost:8080/",
          "height": 450
        },
        "id": "4dbVA3zbTOzA",
        "outputId": "f0b19436-f3e6-4e7c-830d-567025b77e01"
      },
      "source": [
        "print(df.groupby(df[\"pickup_datetime\"].dt.year).size())\n",
        "df.groupby(df[\"pickup_datetime\"].dt.year).size().plot(marker=\"o\")"
      ],
      "execution_count": 125,
      "outputs": [
        {
          "output_type": "stream",
          "text": [
            "pickup_datetime\n",
            "2009    3364\n",
            "2010    3207\n",
            "2011    3532\n",
            "2012    3520\n",
            "2013    3349\n",
            "2014    3218\n",
            "2015    1543\n",
            "dtype: int64\n"
          ],
          "name": "stdout"
        },
        {
          "output_type": "execute_result",
          "data": {
            "text/plain": [
              "<matplotlib.axes._subplots.AxesSubplot at 0x7fac263351d0>"
            ]
          },
          "metadata": {
            "tags": []
          },
          "execution_count": 125
        },
        {
          "output_type": "display_data",
          "data": {
            "image/png": "[encoded data removed]",
            "text/plain": [
              "<Figure size 432x288 with 1 Axes>"
            ]
          },
          "metadata": {
            "tags": [],
            "needs_background": "light"
          }
        }
      ]
    },
    {
      "cell_type": "markdown",
      "metadata": {
        "id": "vIxT3UiWQb-s"
      },
      "source": [
        "Average fare amount based on Number of Passengers\n",
        "\n",
        "We observe that average fare is lowest when number of passengers is 5"
      ]
    },
    {
      "cell_type": "code",
      "metadata": {
        "colab": {
          "base_uri": "https://localhost:8080/",
          "height": 489
        },
        "id": "1yFyBg5uKMjj",
        "outputId": "a3f56145-87c6-4805-e2ce-2bd4a255c673"
      },
      "source": [
        "fig=plt.figure(figsize=(18,6))\n",
        "print(df.groupby(\"passenger_count\")[\"fare_amount\"].mean())\n",
        "\n",
        "# plotting graph when rows here number of passengers is equal to zero is removed\n",
        "sns.barplot(x=\"passenger_count\",y=\"fare_amount\",data=df.drop(df[df.passenger_count==0].index),palette=\"pastel\")"
      ],
      "execution_count": 126,
      "outputs": [
        {
          "output_type": "stream",
          "text": [
            "passenger_count\n",
            "0     9.110127\n",
            "1    11.221813\n",
            "2    11.752135\n",
            "3    11.428200\n",
            "4    11.701211\n",
            "5    11.077106\n",
            "6    11.468644\n",
            "Name: fare_amount, dtype: float64\n"
          ],
          "name": "stdout"
        },
        {
          "output_type": "execute_result",
          "data": {
            "text/plain": [
              "<matplotlib.axes._subplots.AxesSubplot at 0x7fac262afd50>"
            ]
          },
          "metadata": {
            "tags": []
          },
          "execution_count": 126
        },
        {
          "output_type": "display_data",
          "data": {
            "image/png": "[encoded data removed]",
            "text/plain": [
              "<Figure size 1296x432 with 1 Axes>"
            ]
          },
          "metadata": {
            "tags": [],
            "needs_background": "light"
          }
        }
      ]
    },
    {
      "cell_type": "markdown",
      "metadata": {
        "id": "xEW41azHsPoN"
      },
      "source": [
        "Finding relationship between Distance (Pickup and Dropoff) and Fare_amount\n",
        "\n",
        "We can see as the distnace between two points increases, the fare is also getting incraesed"
      ]
    },
    {
      "cell_type": "code",
      "metadata": {
        "colab": {
          "base_uri": "https://localhost:8080/",
          "height": 297
        },
        "id": "hypuoGBrsqYF",
        "outputId": "453b4883-1b53-4c40-cd0c-bac9fb24e7a4"
      },
      "source": [
        "g=sns.scatterplot(x=\"pickup_dropoff_distance\",y=\"fare_amount\",data=df)\n",
        "g.set(xlim=(0, 40))\n",
        "g.set(ylim=(0, 150))"
      ],
      "execution_count": 127,
      "outputs": [
        {
          "output_type": "execute_result",
          "data": {
            "text/plain": [
              "[(0.0, 150.0)]"
            ]
          },
          "metadata": {
            "tags": []
          },
          "execution_count": 127
        },
        {
          "output_type": "display_data",
          "data": {
            "image/png": "[encoded data removed]",
            "text/plain": [
              "<Figure size 432x288 with 1 Axes>"
            ]
          },
          "metadata": {
            "tags": [],
            "needs_background": "light"
          }
        }
      ]
    },
    {
      "cell_type": "code",
      "metadata": {
        "colab": {
          "base_uri": "https://localhost:8080/",
          "height": 401
        },
        "id": "7B0Jhgwh_MbE",
        "outputId": "5fee92de-3fb0-482f-8822-977ce9c0d45d"
      },
      "source": [
        "g=sns.lmplot(x=\"pickup_dropoff_distance\",y=\"fare_amount\",data=df,fit_reg=False,  # do not fit a regression line\n",
        "            x_jitter=5,  # could also dynamically set this with range of data\n",
        "            y_jitter=6,\n",
        "            scatter_kws={'alpha': 1})\n",
        "g.set(xlim=(0, 40))\n",
        "g.set(ylim=(0, 150))"
      ],
      "execution_count": 128,
      "outputs": [
        {
          "output_type": "execute_result",
          "data": {
            "text/plain": [
              "<seaborn.axisgrid.FacetGrid at 0x7fac26365d50>"
            ]
          },
          "metadata": {
            "tags": []
          },
          "execution_count": 128
        },
        {
          "output_type": "display_data",
          "data": {
            "image/png": "[encoded data removed]",
            "text/plain": [
              "<Figure size 360x360 with 1 Axes>"
            ]
          },
          "metadata": {
            "tags": [],
            "needs_background": "light"
          }
        }
      ]
    }
  ]
}