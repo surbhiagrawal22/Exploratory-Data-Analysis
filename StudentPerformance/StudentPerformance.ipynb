{
  "nbformat": 4,
  "nbformat_minor": 0,
  "metadata": {
    "colab": {
      "name": "StudentPerformance.ipynb",
      "provenance": []
    },
    "kernelspec": {
      "name": "python3",
      "display_name": "Python 3"
    }
  },
  "cells": [
    {
      "cell_type": "markdown",
      "metadata": {
        "id": "kha2vPJl-FHi"
      },
      "source": [
        "**Content**\n",
        "This data set consists of the marks secured by the students in various subjects.\n",
        "\n",
        "**Inspiration**\n",
        "To understand the influence of the parents background, test preparation etc on students performance\n",
        "\n",
        "Dataset can be found at https://www.kaggle.com/spscientist/students-performance-in-exams"
      ]
    },
    {
      "cell_type": "code",
      "metadata": {
        "id": "0vjV0yq49MfO"
      },
      "source": [
        "# import all packages and set plots to be embedded inline\n",
        "import pandas as pd\n",
        "import numpy as np\n",
        "import seaborn as sns\n",
        "import matplotlib.pyplot as plt\n",
        "%matplotlib inline"
      ],
      "execution_count": 247,
      "outputs": []
    },
    {
      "cell_type": "markdown",
      "metadata": {
        "id": "d5EPwSFrKZnO"
      },
      "source": [
        "**Loading the data and taking a Quick Glance at it**"
      ]
    },
    {
      "cell_type": "code",
      "metadata": {
        "id": "e0lpw9h39tr6"
      },
      "source": [
        "pd.set_option(\"max_columns\",None)\n",
        "df=pd.read_csv(\"/content/StudentsPerformance.csv\")\n",
        "print(df.tail(5))\n",
        "\n",
        "#looking the shape of the data\n",
        "print(f'Dataset has Total Rows= {(df.shape)[0]} and Total Columns= {(df.shape)[1]}')"
      ],
      "execution_count": null,
      "outputs": []
    },
    {
      "cell_type": "code",
      "metadata": {
        "colab": {
          "base_uri": "https://localhost:8080/",
          "height": 390
        },
        "id": "BYHTPEBSKf8K",
        "outputId": "d1e6fc3e-572c-4ceb-a14d-764557140ccc"
      },
      "source": [
        "df.describe(include=\"all\")"
      ],
      "execution_count": 249,
      "outputs": [
        {
          "output_type": "execute_result",
          "data": {
            "text/html": [
              "<div>\n",
              "<style scoped>\n",
              "    .dataframe tbody tr th:only-of-type {\n",
              "        vertical-align: middle;\n",
              "    }\n",
              "\n",
              "    .dataframe tbody tr th {\n",
              "        vertical-align: top;\n",
              "    }\n",
              "\n",
              "    .dataframe thead th {\n",
              "        text-align: right;\n",
              "    }\n",
              "</style>\n",
              "<table border=\"1\" class=\"dataframe\">\n",
              "  <thead>\n",
              "    <tr style=\"text-align: right;\">\n",
              "      <th></th>\n",
              "      <th>gender</th>\n",
              "      <th>race/ethnicity</th>\n",
              "      <th>parental level of education</th>\n",
              "      <th>lunch</th>\n",
              "      <th>test preparation course</th>\n",
              "      <th>math score</th>\n",
              "      <th>reading score</th>\n",
              "      <th>writing score</th>\n",
              "    </tr>\n",
              "  </thead>\n",
              "  <tbody>\n",
              "    <tr>\n",
              "      <th>count</th>\n",
              "      <td>1000</td>\n",
              "      <td>1000</td>\n",
              "      <td>1000</td>\n",
              "      <td>1000</td>\n",
              "      <td>1000</td>\n",
              "      <td>1000.00</td>\n",
              "      <td>1000.00</td>\n",
              "      <td>1000.00</td>\n",
              "    </tr>\n",
              "    <tr>\n",
              "      <th>unique</th>\n",
              "      <td>2</td>\n",
              "      <td>5</td>\n",
              "      <td>6</td>\n",
              "      <td>2</td>\n",
              "      <td>2</td>\n",
              "      <td>NaN</td>\n",
              "      <td>NaN</td>\n",
              "      <td>NaN</td>\n",
              "    </tr>\n",
              "    <tr>\n",
              "      <th>top</th>\n",
              "      <td>female</td>\n",
              "      <td>group C</td>\n",
              "      <td>some college</td>\n",
              "      <td>standard</td>\n",
              "      <td>none</td>\n",
              "      <td>NaN</td>\n",
              "      <td>NaN</td>\n",
              "      <td>NaN</td>\n",
              "    </tr>\n",
              "    <tr>\n",
              "      <th>freq</th>\n",
              "      <td>518</td>\n",
              "      <td>319</td>\n",
              "      <td>226</td>\n",
              "      <td>645</td>\n",
              "      <td>642</td>\n",
              "      <td>NaN</td>\n",
              "      <td>NaN</td>\n",
              "      <td>NaN</td>\n",
              "    </tr>\n",
              "    <tr>\n",
              "      <th>mean</th>\n",
              "      <td>NaN</td>\n",
              "      <td>NaN</td>\n",
              "      <td>NaN</td>\n",
              "      <td>NaN</td>\n",
              "      <td>NaN</td>\n",
              "      <td>66.09</td>\n",
              "      <td>69.17</td>\n",
              "      <td>68.05</td>\n",
              "    </tr>\n",
              "    <tr>\n",
              "      <th>std</th>\n",
              "      <td>NaN</td>\n",
              "      <td>NaN</td>\n",
              "      <td>NaN</td>\n",
              "      <td>NaN</td>\n",
              "      <td>NaN</td>\n",
              "      <td>15.16</td>\n",
              "      <td>14.60</td>\n",
              "      <td>15.20</td>\n",
              "    </tr>\n",
              "    <tr>\n",
              "      <th>min</th>\n",
              "      <td>NaN</td>\n",
              "      <td>NaN</td>\n",
              "      <td>NaN</td>\n",
              "      <td>NaN</td>\n",
              "      <td>NaN</td>\n",
              "      <td>0.00</td>\n",
              "      <td>17.00</td>\n",
              "      <td>10.00</td>\n",
              "    </tr>\n",
              "    <tr>\n",
              "      <th>25%</th>\n",
              "      <td>NaN</td>\n",
              "      <td>NaN</td>\n",
              "      <td>NaN</td>\n",
              "      <td>NaN</td>\n",
              "      <td>NaN</td>\n",
              "      <td>57.00</td>\n",
              "      <td>59.00</td>\n",
              "      <td>57.75</td>\n",
              "    </tr>\n",
              "    <tr>\n",
              "      <th>50%</th>\n",
              "      <td>NaN</td>\n",
              "      <td>NaN</td>\n",
              "      <td>NaN</td>\n",
              "      <td>NaN</td>\n",
              "      <td>NaN</td>\n",
              "      <td>66.00</td>\n",
              "      <td>70.00</td>\n",
              "      <td>69.00</td>\n",
              "    </tr>\n",
              "    <tr>\n",
              "      <th>75%</th>\n",
              "      <td>NaN</td>\n",
              "      <td>NaN</td>\n",
              "      <td>NaN</td>\n",
              "      <td>NaN</td>\n",
              "      <td>NaN</td>\n",
              "      <td>77.00</td>\n",
              "      <td>79.00</td>\n",
              "      <td>79.00</td>\n",
              "    </tr>\n",
              "    <tr>\n",
              "      <th>max</th>\n",
              "      <td>NaN</td>\n",
              "      <td>NaN</td>\n",
              "      <td>NaN</td>\n",
              "      <td>NaN</td>\n",
              "      <td>NaN</td>\n",
              "      <td>100.00</td>\n",
              "      <td>100.00</td>\n",
              "      <td>100.00</td>\n",
              "    </tr>\n",
              "  </tbody>\n",
              "</table>\n",
              "</div>"
            ],
            "text/plain": [
              "        gender race/ethnicity parental level of education     lunch  \\\n",
              "count     1000           1000                        1000      1000   \n",
              "unique       2              5                           6         2   \n",
              "top     female        group C                some college  standard   \n",
              "freq       518            319                         226       645   \n",
              "mean       NaN            NaN                         NaN       NaN   \n",
              "std        NaN            NaN                         NaN       NaN   \n",
              "min        NaN            NaN                         NaN       NaN   \n",
              "25%        NaN            NaN                         NaN       NaN   \n",
              "50%        NaN            NaN                         NaN       NaN   \n",
              "75%        NaN            NaN                         NaN       NaN   \n",
              "max        NaN            NaN                         NaN       NaN   \n",
              "\n",
              "       test preparation course  math score  reading score  writing score  \n",
              "count                     1000     1000.00        1000.00        1000.00  \n",
              "unique                       2         NaN            NaN            NaN  \n",
              "top                       none         NaN            NaN            NaN  \n",
              "freq                       642         NaN            NaN            NaN  \n",
              "mean                       NaN       66.09          69.17          68.05  \n",
              "std                        NaN       15.16          14.60          15.20  \n",
              "min                        NaN        0.00          17.00          10.00  \n",
              "25%                        NaN       57.00          59.00          57.75  \n",
              "50%                        NaN       66.00          70.00          69.00  \n",
              "75%                        NaN       77.00          79.00          79.00  \n",
              "max                        NaN      100.00         100.00         100.00  "
            ]
          },
          "metadata": {
            "tags": []
          },
          "execution_count": 249
        }
      ]
    },
    {
      "cell_type": "markdown",
      "metadata": {
        "id": "n3W3i95bLPxF"
      },
      "source": [
        "We notice here that:-\n",
        "\n",
        "Score obtained in Math range between (0-100) and the average score is 66.09\n",
        "\n",
        "Score obtained in Reading range between (17-100) and the average score is 69.17\t\n",
        "\n",
        "Score obtained in Writing range between (10-100) and the average score is 68.05"
      ]
    },
    {
      "cell_type": "code",
      "metadata": {
        "colab": {
          "base_uri": "https://localhost:8080/"
        },
        "id": "aAp10NqoK2m-",
        "outputId": "ab667817-b117-41fc-f9f8-7c668528c310"
      },
      "source": [
        "#  Check for number of null values on each columns\n",
        "print(df.info())\n",
        "print(df.isnull().sum())"
      ],
      "execution_count": 250,
      "outputs": [
        {
          "output_type": "stream",
          "text": [
            "<class 'pandas.core.frame.DataFrame'>\n",
            "RangeIndex: 1000 entries, 0 to 999\n",
            "Data columns (total 8 columns):\n",
            " #   Column                       Non-Null Count  Dtype \n",
            "---  ------                       --------------  ----- \n",
            " 0   gender                       1000 non-null   object\n",
            " 1   race/ethnicity               1000 non-null   object\n",
            " 2   parental level of education  1000 non-null   object\n",
            " 3   lunch                        1000 non-null   object\n",
            " 4   test preparation course      1000 non-null   object\n",
            " 5   math score                   1000 non-null   int64 \n",
            " 6   reading score                1000 non-null   int64 \n",
            " 7   writing score                1000 non-null   int64 \n",
            "dtypes: int64(3), object(5)\n",
            "memory usage: 62.6+ KB\n",
            "None\n",
            "gender                         0\n",
            "race/ethnicity                 0\n",
            "parental level of education    0\n",
            "lunch                          0\n",
            "test preparation course        0\n",
            "math score                     0\n",
            "reading score                  0\n",
            "writing score                  0\n",
            "dtype: int64\n"
          ],
          "name": "stdout"
        }
      ]
    },
    {
      "cell_type": "code",
      "metadata": {
        "colab": {
          "base_uri": "https://localhost:8080/"
        },
        "id": "Fq5egDIKMi8y",
        "outputId": "82328548-7185-4d5c-be3a-ae17efe3b37b"
      },
      "source": [
        "# checking for any duplication in the dataset\n",
        "df.duplicated().sum()"
      ],
      "execution_count": 251,
      "outputs": [
        {
          "output_type": "execute_result",
          "data": {
            "text/plain": [
              "0"
            ]
          },
          "metadata": {
            "tags": []
          },
          "execution_count": 251
        }
      ]
    },
    {
      "cell_type": "markdown",
      "metadata": {
        "id": "wklQtlhI85h2"
      },
      "source": [
        "There are no duplicates in the dataset"
      ]
    },
    {
      "cell_type": "markdown",
      "metadata": {
        "id": "M8DO5Khq_502"
      },
      "source": [
        "**Column Wrangling**"
      ]
    },
    {
      "cell_type": "code",
      "metadata": {
        "colab": {
          "base_uri": "https://localhost:8080/"
        },
        "id": "YrC8M6H19tv5",
        "outputId": "363ac958-b99c-40ac-8ef9-d6e14a5ad8b8"
      },
      "source": [
        "# To remove white spaces in column names and converting to Title Case\n",
        "df.columns=df.columns.str.replace(\" \",\"_\")\n",
        "df.columns=df.columns.str.title()\n",
        "df.rename(columns={\"Race/Ethnicity\":\"Ethnicity\",\"Parental_Level_Of_Education\":\"Parent_Education\"},inplace=True)\n",
        "\n",
        "df.loc[:,\"Ethnicity\"]=df.loc[:,\"Ethnicity\"].str.title()\n",
        "df.loc[:,\"Parent_Education\"]=df.loc[:,\"Parent_Education\"].str.title()\n",
        "df.loc[:,\"Gender\"]=df.loc[:,\"Gender\"].str.title()\n",
        "df.loc[:,\"Lunch\"]=df.loc[:,\"Lunch\"].str.title()\n",
        "df.loc[:,\"Test_Preparation_Course\"]=df.loc[:,\"Test_Preparation_Course\"].str.title()\n",
        "# check columns names\n",
        "print(df.columns)"
      ],
      "execution_count": 252,
      "outputs": [
        {
          "output_type": "stream",
          "text": [
            "Index(['Gender', 'Ethnicity', 'Parent_Education', 'Lunch',\n",
            "       'Test_Preparation_Course', 'Math_Score', 'Reading_Score',\n",
            "       'Writing_Score'],\n",
            "      dtype='object')\n"
          ],
          "name": "stdout"
        }
      ]
    },
    {
      "cell_type": "markdown",
      "metadata": {
        "id": "I3F1RBthNROc"
      },
      "source": [
        "**Analysing Data**"
      ]
    },
    {
      "cell_type": "code",
      "metadata": {
        "colab": {
          "base_uri": "https://localhost:8080/"
        },
        "id": "FxlC_AFQ9t0c",
        "outputId": "abb62a6a-2733-446a-ecdb-eedbaf1da465"
      },
      "source": [
        "# Display gender Value Counts\n",
        "df[\"Gender\"].value_counts()"
      ],
      "execution_count": 253,
      "outputs": [
        {
          "output_type": "execute_result",
          "data": {
            "text/plain": [
              "Female    518\n",
              "Male      482\n",
              "Name: Gender, dtype: int64"
            ]
          },
          "metadata": {
            "tags": []
          },
          "execution_count": 253
        }
      ]
    },
    {
      "cell_type": "code",
      "metadata": {
        "colab": {
          "base_uri": "https://localhost:8080/"
        },
        "id": "eAnbxXZZ9t3h",
        "outputId": "de512427-9367-49b4-edeb-cae9db472605"
      },
      "source": [
        "# Display Ethnicity Value Counts\n",
        "df[\"Ethnicity\"].value_counts()"
      ],
      "execution_count": 254,
      "outputs": [
        {
          "output_type": "execute_result",
          "data": {
            "text/plain": [
              "Group C    319\n",
              "Group D    262\n",
              "Group B    190\n",
              "Group E    140\n",
              "Group A     89\n",
              "Name: Ethnicity, dtype: int64"
            ]
          },
          "metadata": {
            "tags": []
          },
          "execution_count": 254
        }
      ]
    },
    {
      "cell_type": "code",
      "metadata": {
        "colab": {
          "base_uri": "https://localhost:8080/"
        },
        "id": "eHSfC-gL9t7L",
        "outputId": "c1def6ac-6090-4b49-df75-e65aa1551185"
      },
      "source": [
        "# Display Parent Level of Education Value Counts\n",
        "df[\"Parent_Education\"].value_counts()"
      ],
      "execution_count": 255,
      "outputs": [
        {
          "output_type": "execute_result",
          "data": {
            "text/plain": [
              "Some College          226\n",
              "Associate'S Degree    222\n",
              "High School           196\n",
              "Some High School      179\n",
              "Bachelor'S Degree     118\n",
              "Master'S Degree        59\n",
              "Name: Parent_Education, dtype: int64"
            ]
          },
          "metadata": {
            "tags": []
          },
          "execution_count": 255
        }
      ]
    },
    {
      "cell_type": "code",
      "metadata": {
        "colab": {
          "base_uri": "https://localhost:8080/"
        },
        "id": "V0FVNK75NgYR",
        "outputId": "9624069c-8601-4397-c3ec-91f2fca5ac1e"
      },
      "source": [
        "# Display lunch Value Counts\n",
        "df[\"Lunch\"].value_counts()"
      ],
      "execution_count": 256,
      "outputs": [
        {
          "output_type": "execute_result",
          "data": {
            "text/plain": [
              "Standard        645\n",
              "Free/Reduced    355\n",
              "Name: Lunch, dtype: int64"
            ]
          },
          "metadata": {
            "tags": []
          },
          "execution_count": 256
        }
      ]
    },
    {
      "cell_type": "code",
      "metadata": {
        "colab": {
          "base_uri": "https://localhost:8080/"
        },
        "id": "YtrHoHfUNgbY",
        "outputId": "c98e4837-33ff-456d-98bf-a331130b25d3"
      },
      "source": [
        "# Display test_preparation_course Value Counts/count by size\n",
        "df[\"Test_Preparation_Course\"].value_counts()\n",
        "df.groupby(\"Test_Preparation_Course\").size()"
      ],
      "execution_count": 257,
      "outputs": [
        {
          "output_type": "execute_result",
          "data": {
            "text/plain": [
              "Test_Preparation_Course\n",
              "Completed    358\n",
              "None         642\n",
              "dtype: int64"
            ]
          },
          "metadata": {
            "tags": []
          },
          "execution_count": 257
        }
      ]
    },
    {
      "cell_type": "markdown",
      "metadata": {
        "id": "k1NNjeVIOPh_"
      },
      "source": [
        "**Exploration**"
      ]
    },
    {
      "cell_type": "code",
      "metadata": {
        "colab": {
          "base_uri": "https://localhost:8080/",
          "height": 336
        },
        "id": "s0mRIj_gNgee",
        "outputId": "6574abd4-defa-4ea9-91ee-0d46c393be00"
      },
      "source": [
        "# Ploting the distribution of gender\n",
        "\n",
        "df[\"Gender\"].value_counts().plot.pie(startangle=90,autopct=\"%1.1f%%\",title=\"Gender\",figsize=(5, 5),legend=True,colormap=\"Pastel2\")"
      ],
      "execution_count": 258,
      "outputs": [
        {
          "output_type": "execute_result",
          "data": {
            "text/plain": [
              "<matplotlib.axes._subplots.AxesSubplot at 0x7fb066e83f90>"
            ]
          },
          "metadata": {
            "tags": []
          },
          "execution_count": 258
        },
        {
          "output_type": "display_data",
          "data": {
            "image/png": "[encoded data removed]",
            "text/plain": [
              "<Figure size 360x360 with 1 Axes>"
            ]
          },
          "metadata": {
            "tags": []
          }
        }
      ]
    },
    {
      "cell_type": "markdown",
      "metadata": {
        "id": "wyR_BBEIRaNv"
      },
      "source": [
        "We observere here that, The percentage of female members in our dataet is 51.8% whereas the percentage of Male members is 48.2 %"
      ]
    },
    {
      "cell_type": "code",
      "metadata": {
        "colab": {
          "base_uri": "https://localhost:8080/",
          "height": 441
        },
        "id": "SdOuCIGHNghx",
        "outputId": "341985e1-3897-4d60-9d2b-b6112e539a27"
      },
      "source": [
        "# Ploting the distribution of Ethinicty\n",
        "plt.figure(figsize=(10,6))\n",
        "labels=df[\"Ethnicity\"].value_counts().index\n",
        "values=df[\"Ethnicity\"].value_counts().values\n",
        "sns.countplot(x=\"Ethnicity\",data=df,palette=\"Pastel2\",hue=\"Ethnicity\")\n",
        "plt.xlabel(\"Ethnicity\")\n",
        "plt.ylabel(\"Count of Students\")\n",
        "# place the legend outside the figure/plot\n",
        "plt.legend(bbox_to_anchor=(1.01, 1),borderaxespad=0)\n",
        "plt.tight_layout()"
      ],
      "execution_count": 260,
      "outputs": [
        {
          "output_type": "display_data",
          "data": {
            "image/png": "[encoded data removed]",
            "text/plain": [
              "<Figure size 720x432 with 1 Axes>"
            ]
          },
          "metadata": {
            "tags": [],
            "needs_background": "light"
          }
        }
      ]
    },
    {
      "cell_type": "markdown",
      "metadata": {
        "id": "ZxMRJHOVUV6C"
      },
      "source": [
        "The most common ethnicity is Group C then comes group D, in the third place we have group B followed by group E and group A."
      ]
    },
    {
      "cell_type": "code",
      "metadata": {
        "colab": {
          "base_uri": "https://localhost:8080/",
          "height": 296
        },
        "id": "aHOM3ZirUg8K",
        "outputId": "5d38e6ff-de8c-4c22-e63d-7ec3df0e6033"
      },
      "source": [
        "# Ploting the distribution of Parents Education\n",
        "\n",
        "sns.countplot(y=\"Parent_Education\",data=df,facecolor=(0,0,0,0),linewidth=5,edgecolor=sns.color_palette(\"ch:.25\", 6))"
      ],
      "execution_count": 261,
      "outputs": [
        {
          "output_type": "execute_result",
          "data": {
            "text/plain": [
              "<matplotlib.axes._subplots.AxesSubplot at 0x7fb0650d0d50>"
            ]
          },
          "metadata": {
            "tags": []
          },
          "execution_count": 261
        },
        {
          "output_type": "display_data",
          "data": {
            "image/png": "[encoded data removed]",
            "text/plain": [
              "<Figure size 432x288 with 1 Axes>"
            ]
          },
          "metadata": {
            "tags": [],
            "needs_background": "light"
          }
        }
      ]
    },
    {
      "cell_type": "markdown",
      "metadata": {
        "id": "PRX2P4j2Wiry"
      },
      "source": [
        "We observe that the most common education level in Parents is Some-College and Associate;s Degree\n",
        "Parents with Master's degree are the fewest"
      ]
    },
    {
      "cell_type": "code",
      "metadata": {
        "colab": {
          "base_uri": "https://localhost:8080/",
          "height": 297
        },
        "id": "p4_C-BB8Wh7l",
        "outputId": "20b821ed-1844-4cb4-d1dd-0fe7ed1d72e5"
      },
      "source": [
        "#Ploting the distribution of Test_Preparation_Course\n",
        "\n",
        "labels = df[\"Test_Preparation_Course\"].value_counts().index\n",
        "sizes = df[\"Test_Preparation_Course\"].value_counts().values\n",
        "\n",
        "#colors\n",
        "colors = ['#ff9999','#66b3ff']\n",
        "\n",
        "#explsion\n",
        "explode = (0.05,0.05)\n",
        "\n",
        "fig, ax1 = plt.subplots()\n",
        "plt.pie(sizes, colors = colors, labels=labels, autopct='%1.1f%%', startangle=90, pctdistance=0.85, explode = explode)\n",
        "plt.legend(labels, loc=\"upper right\")\n",
        "\n",
        "#draw circle\n",
        "centre_circle = plt.Circle((0,0),0.70,fc='white')\n",
        "fig = plt.gcf()\n",
        "fig.gca().add_artist(centre_circle)\n",
        "\n",
        "# Equal aspect ratio ensures that pie is drawn as a circle\n",
        "ax1.axis('equal')  \n",
        "plt.tight_layout()\n",
        "plt.show()"
      ],
      "execution_count": 262,
      "outputs": [
        {
          "output_type": "display_data",
          "data": {
            "image/png": "[encoded data removed]",
            "text/plain": [
              "<Figure size 432x288 with 1 Axes>"
            ]
          },
          "metadata": {
            "tags": []
          }
        }
      ]
    },
    {
      "cell_type": "markdown",
      "metadata": {
        "id": "8rVUxt8-Z7Zm"
      },
      "source": [
        "We observe that most of the Students did not enrolled or completed ther Test Preparation Course"
      ]
    },
    {
      "cell_type": "code",
      "metadata": {
        "colab": {
          "base_uri": "https://localhost:8080/",
          "height": 297
        },
        "id": "KaKL7AFnWh_f",
        "outputId": "e71765af-5188-48c8-fc83-c5c0b5b0a6f0"
      },
      "source": [
        "#Ploting the distribution based on Lunch\n",
        "\n",
        "sizes=df.groupby(\"Lunch\").size().values\n",
        "labels=df.groupby(\"Lunch\").size().index\n",
        "fig,ax1=plt.subplots()\n",
        "ax1.pie(sizes,labels=labels,startangle=90,autopct=\"%1.1f%%\",colors=['#ff9999','#66b3ff'])\n",
        "ax1.axis('equal')\n",
        "plt.tight_layout()\n",
        "plt.legend(labels,loc=\"upper right\")\n",
        "plt.show()"
      ],
      "execution_count": 263,
      "outputs": [
        {
          "output_type": "display_data",
          "data": {
            "image/png": "[encoded data removed]",
            "text/plain": [
              "<Figure size 432x288 with 1 Axes>"
            ]
          },
          "metadata": {
            "tags": []
          }
        }
      ]
    },
    {
      "cell_type": "markdown",
      "metadata": {
        "id": "1QrqKQMXb5ns"
      },
      "source": [
        "We observe that Students prefer Standard lunch with 64.5% as compared to free/Reduced lunch which is at 35.5%"
      ]
    },
    {
      "cell_type": "code",
      "metadata": {
        "colab": {
          "base_uri": "https://localhost:8080/",
          "height": 539
        },
        "id": "4JNgLc4kd-nl",
        "outputId": "eed280d5-77e2-48fe-d1bb-cf4cd849f3e8"
      },
      "source": [
        "#Ploting the distribution of Maths Score\n",
        "plt.figure(figsize=(11,5))\n",
        "labels=['0-10','10-20','20-30','30-40','40-50','50-60','60-70','70-80','80-90','90-100']\n",
        "bins=[0,10,20,30,40,50,60,70,80,90,100]\n",
        "df[\"maths_Score_Bins\"]=pd.cut(df[\"Math_Score\"],labels=labels,bins=bins)\n",
        "print(df[\"maths_Score_Bins\"].value_counts(normalize=True,sort=False))\n",
        "sns.countplot(data=df,x=\"maths_Score_Bins\",palette=\"Pastel2\")"
      ],
      "execution_count": 296,
      "outputs": [
        {
          "output_type": "stream",
          "text": [
            "0-10      1.00e-03\n",
            "10-20     2.00e-03\n",
            "20-30     1.20e-02\n",
            "30-40     3.40e-02\n",
            "40-50     1.00e-01\n",
            "50-60     1.89e-01\n",
            "60-70     2.70e-01\n",
            "70-80     2.15e-01\n",
            "80-90     1.26e-01\n",
            "90-100    5.01e-02\n",
            "Name: maths_Score_Bins, dtype: float64\n"
          ],
          "name": "stdout"
        },
        {
          "output_type": "execute_result",
          "data": {
            "text/plain": [
              "<matplotlib.axes._subplots.AxesSubplot at 0x7fb0631eb1d0>"
            ]
          },
          "metadata": {
            "tags": []
          },
          "execution_count": 296
        },
        {
          "output_type": "display_data",
          "data": {
            "image/png": "[encoded data removed]",
            "text/plain": [
              "<Figure size 792x360 with 1 Axes>"
            ]
          },
          "metadata": {
            "tags": [],
            "needs_background": "light"
          }
        }
      ]
    },
    {
      "cell_type": "markdown",
      "metadata": {
        "id": "eTc2s0s_e_7G"
      },
      "source": [
        "Distribution of Math Score\n",
        "\n",
        "We observe that 27% (maximum students) are scoring the marks between 60-70 marks range ,21% are scoring between 70-80 range marks.\n",
        "\n",
        "Only 5% students are scoring in Marks Range (90-100) In Maths"
      ]
    },
    {
      "cell_type": "code",
      "metadata": {
        "colab": {
          "base_uri": "https://localhost:8080/",
          "height": 522
        },
        "id": "1tGi0_fjfjkX",
        "outputId": "a7e94aad-bbf1-40aa-9cf4-951a498dd565"
      },
      "source": [
        "#Ploting the distribution of Reading Score\n",
        "plt.figure(figsize=(11,5))\n",
        "labels=['17-25','25-35','35-45','45-55','55-65','65-75','75-85','85-95','95-100']\n",
        "bins=[17,25,35,45,55,65,75,85,95,100]\n",
        "df[\"Reading_Score_Bins\"]=pd.cut(df[\"Reading_Score\"],labels=labels,bins=bins)\n",
        "print(df[\"Reading_Score_Bins\"].value_counts(normalize=True,sort=False))\n",
        "sns.countplot(data=df,x=\"Reading_Score_Bins\",palette=\"Pastel2\")"
      ],
      "execution_count": 273,
      "outputs": [
        {
          "output_type": "stream",
          "text": [
            "17-25     3.00e-03\n",
            "25-35     1.10e-02\n",
            "35-45     4.50e-02\n",
            "45-55     1.16e-01\n",
            "55-65     2.16e-01\n",
            "65-75     2.64e-01\n",
            "75-85     2.12e-01\n",
            "85-95     1.03e-01\n",
            "95-100    2.90e-02\n",
            "Name: Reading_Score_Bins, dtype: float64\n"
          ],
          "name": "stdout"
        },
        {
          "output_type": "execute_result",
          "data": {
            "text/plain": [
              "<matplotlib.axes._subplots.AxesSubplot at 0x7fb0656e1790>"
            ]
          },
          "metadata": {
            "tags": []
          },
          "execution_count": 273
        },
        {
          "output_type": "display_data",
          "data": {
            "image/png": "[encoded data removed]",
            "text/plain": [
              "<Figure size 792x360 with 1 Axes>"
            ]
          },
          "metadata": {
            "tags": [],
            "needs_background": "light"
          }
        }
      ]
    },
    {
      "cell_type": "markdown",
      "metadata": {
        "id": "Q4o3Of-5j8ly"
      },
      "source": [
        "Distribution of Reading Score\n",
        "\n",
        "We observe that 26% (maximum students) are scoring the marks between (65-75 )marks range ,21% are scoring between (55-65) and (75-85) range marks.\n",
        "\n",
        "Only 2% students are scoring in Marks Range (95-100) In Reading "
      ]
    },
    {
      "cell_type": "code",
      "metadata": {
        "colab": {
          "base_uri": "https://localhost:8080/",
          "height": 522
        },
        "id": "NV2DtuOLkTxr",
        "outputId": "08ec9de0-b0a4-4647-b908-c973ba911d05"
      },
      "source": [
        "#Ploting the distribution of Writing Score\n",
        "plt.figure(figsize=(11,5))\n",
        "labels=['10-20','20-30','30-40','40-50','50-60','60-70','70-80','80-90','90-100']\n",
        "bins=[10,20,30,40,50,60,70,80,90,100]\n",
        "df[\"Writing_Score_Bins\"]=pd.cut(df[\"Writing_Score\"],labels=labels,bins=bins)\n",
        "print(df[\"Writing_Score_Bins\"].value_counts(normalize=True,sort=False))\n",
        "sns.countplot(data=df,x=\"Writing_Score_Bins\",palette=\"Pastel2\")"
      ],
      "execution_count": 274,
      "outputs": [
        {
          "output_type": "stream",
          "text": [
            "10-20     2.00e-03\n",
            "20-30     7.01e-03\n",
            "30-40     2.50e-02\n",
            "40-50     8.91e-02\n",
            "50-60     1.77e-01\n",
            "60-70     2.43e-01\n",
            "70-80     2.48e-01\n",
            "80-90     1.40e-01\n",
            "90-100    6.81e-02\n",
            "Name: Writing_Score_Bins, dtype: float64\n"
          ],
          "name": "stdout"
        },
        {
          "output_type": "execute_result",
          "data": {
            "text/plain": [
              "<matplotlib.axes._subplots.AxesSubplot at 0x7fb066068a10>"
            ]
          },
          "metadata": {
            "tags": []
          },
          "execution_count": 274
        },
        {
          "output_type": "display_data",
          "data": {
            "image/png": "[encoded data removed]",
            "text/plain": [
              "<Figure size 792x360 with 1 Axes>"
            ]
          },
          "metadata": {
            "tags": [],
            "needs_background": "light"
          }
        }
      ]
    },
    {
      "cell_type": "markdown",
      "metadata": {
        "id": "n_AsPngTkneB"
      },
      "source": [
        "Distribution of Writing Score\n",
        "\n",
        "We observe that 24% (Maximum Students) are scoring the marks between (60-70) ,(70-80) Marks Range. \n",
        "\n",
        "Only 6% students are scoring in Marks Range (90-100) In Writing"
      ]
    },
    {
      "cell_type": "markdown",
      "metadata": {
        "id": "gQIOCvTk4t-N"
      },
      "source": [
        "**Exploring relationship between columns**"
      ]
    },
    {
      "cell_type": "code",
      "metadata": {
        "colab": {
          "base_uri": "https://localhost:8080/",
          "height": 487
        },
        "id": "6PNsidD9WiEi",
        "outputId": "1378b6c8-4164-4a66-93dd-631540da4d07"
      },
      "source": [
        "# Analysing the relationship between Parents level of Education and Math Score,Reading score and Writing Score\n",
        "\n",
        "pd.set_option('precision',2)\n",
        "fig, ax = plt.subplots(figsize=(18,7), ncols=3)\n",
        "fig.subplots_adjust(wspace=1/2)\n",
        "\n",
        "# Maths Score\n",
        "value=df.groupby(\"Parent_Education\").Math_Score.mean()\n",
        "pal = sns.color_palette(\"Greens_d\", len(value))\n",
        "rank=value.argsort()\n",
        "x=sns.barplot(y=value.values,x=value.index,data=df,palette=np.array(pal[::-1])[rank],ax=ax[0])\n",
        "x.set_ylabel(\"Mean Maths Score\")\n",
        "ax[0].set_title('Math Score')\n",
        "fig.autofmt_xdate(rotation=45)\n",
        "\n",
        "# Reading_Score\n",
        "value1=df.groupby(\"Parent_Education\").Reading_Score.mean()\n",
        "pal = sns.color_palette(\"Blues\", len(value1))\n",
        "rank1=value1.argsort()\n",
        "y=sns.barplot(y=value1.values,x=value1.index,data=df,palette=np.array(pal[::-1])[rank1],ax=ax[1])\n",
        "y.set_ylabel(\"Mean Reading Score\")\n",
        "ax[1].set_title('Reading Score')\n",
        "fig.autofmt_xdate(rotation=45)\n",
        "\n",
        "# Writing_Score\n",
        "value2=df.groupby(\"Parent_Education\").Writing_Score.mean()\n",
        "pal = sns.color_palette(\"Greys\", len(value2))\n",
        "rank2=value2.argsort()\n",
        "y=sns.barplot(y=value2.values,x=value2.index,data=df,palette=np.array(pal[::-1])[rank2],ax=ax[2])\n",
        "y.set_ylabel(\"Mean Writing Score\")\n",
        "ax[2].set_title('Writing Score')\n",
        "fig.autofmt_xdate(rotation=45)"
      ],
      "execution_count": 294,
      "outputs": [
        {
          "output_type": "display_data",
          "data": {
            "image/png": "[encoded data removed]",
            "text/plain": [
              "<Figure size 1296x504 with 3 Axes>"
            ]
          },
          "metadata": {
            "tags": [],
            "needs_background": "light"
          }
        }
      ]
    },
    {
      "cell_type": "markdown",
      "metadata": {
        "id": "Tr9XBT_kxIUK"
      },
      "source": [
        "It is observed that Students whose parents have Masters Degree are scoring the highest in all three Subjects (Maths/Reading and Writing)  subject and least (Maths/Reading and Writing) scores are obtained by students where their parents have High School Degree.\n",
        "\n",
        "\n",
        "\n",
        "\n"
      ]
    },
    {
      "cell_type": "code",
      "metadata": {
        "colab": {
          "base_uri": "https://localhost:8080/",
          "height": 389
        },
        "id": "w2Q-suOjWiHi",
        "outputId": "2746b31f-4bec-4165-cc28-895677dda923"
      },
      "source": [
        "# Analysing the relationship between Test prepartion and Math Score,Reading score and Writing Score\n",
        "\n",
        "fig,ax=plt.subplots(figsize=(17,6),ncols=3)\n",
        "fig.subplots_adjust(wspace=1/2)\n",
        "x = sns.violinplot(x=\"Test_Preparation_Course\", y=\"Math_Score\", data=df,palette=\"Pastel2\",ax=ax[0])\n",
        "y = sns.violinplot(x=\"Test_Preparation_Course\", y=\"Reading_Score\", data=df,palette=\"Pastel2\",ax=ax[1])\n",
        "z = sns.violinplot(x=\"Test_Preparation_Course\", y=\"Writing_Score\", data=df,palette=\"Pastel2\",ax=ax[2])\n",
        "plt.show()"
      ],
      "execution_count": 309,
      "outputs": [
        {
          "output_type": "display_data",
          "data": {
            "image/png": "[encoded data removed]",
            "text/plain": [
              "<Figure size 1224x432 with 3 Axes>"
            ]
          },
          "metadata": {
            "tags": [],
            "needs_background": "light"
          }
        }
      ]
    },
    {
      "cell_type": "markdown",
      "metadata": {
        "id": "cEXH-PT_FYK4"
      },
      "source": [
        "This graph shows us that students who have completed the Test Prepartion score have performed well and scored well in All subject as compared to students who have not taken/enrolled in Test Prepation Course"
      ]
    },
    {
      "cell_type": "code",
      "metadata": {
        "colab": {
          "base_uri": "https://localhost:8080/"
        },
        "id": "gWjVCUII0h2y",
        "outputId": "584eb0dc-eaf9-4f2d-cfa7-dfd027a7dc02"
      },
      "source": [
        "df.groupby(\"Test_Preparation_Course\").Math_Score.mean()"
      ],
      "execution_count": 305,
      "outputs": [
        {
          "output_type": "execute_result",
          "data": {
            "text/plain": [
              "Test_Preparation_Course\n",
              "Completed    69.70\n",
              "None         64.08\n",
              "Name: Math_Score, dtype: float64"
            ]
          },
          "metadata": {
            "tags": []
          },
          "execution_count": 305
        }
      ]
    },
    {
      "cell_type": "code",
      "metadata": {
        "colab": {
          "base_uri": "https://localhost:8080/"
        },
        "id": "yKOsWns-WiJ_",
        "outputId": "50ede72c-5af9-4c22-80a6-319d8051a55d"
      },
      "source": [
        "df.groupby(\"Test_Preparation_Course\").Reading_Score.mean()"
      ],
      "execution_count": 306,
      "outputs": [
        {
          "output_type": "execute_result",
          "data": {
            "text/plain": [
              "Test_Preparation_Course\n",
              "Completed    73.89\n",
              "None         66.53\n",
              "Name: Reading_Score, dtype: float64"
            ]
          },
          "metadata": {
            "tags": []
          },
          "execution_count": 306
        }
      ]
    },
    {
      "cell_type": "code",
      "metadata": {
        "colab": {
          "base_uri": "https://localhost:8080/"
        },
        "id": "cDGhF8c9WiNn",
        "outputId": "13855f59-6a1a-4a36-f996-9433b30f0ac9"
      },
      "source": [
        "df.groupby(\"Test_Preparation_Course\").Writing_Score.mean()"
      ],
      "execution_count": 307,
      "outputs": [
        {
          "output_type": "execute_result",
          "data": {
            "text/plain": [
              "Test_Preparation_Course\n",
              "Completed    74.42\n",
              "None         64.50\n",
              "Name: Writing_Score, dtype: float64"
            ]
          },
          "metadata": {
            "tags": []
          },
          "execution_count": 307
        }
      ]
    }
  ]
}